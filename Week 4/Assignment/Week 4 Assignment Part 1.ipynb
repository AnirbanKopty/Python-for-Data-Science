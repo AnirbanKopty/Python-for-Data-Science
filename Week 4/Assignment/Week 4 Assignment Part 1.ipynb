{
 "cells": [
  {
   "cell_type": "code",
   "execution_count": 1,
   "id": "21620c54",
   "metadata": {},
   "outputs": [],
   "source": [
    "import pandas as pd\n",
    "import numpy as np\n",
    "import matplotlib.pyplot as plt\n",
    "import seaborn as sns\n",
    "from sklearn.linear_model import LogisticRegression\n",
    "from sklearn.metrics import accuracy_score\n",
    "from sklearn.neighbors import KNeighborsClassifier"
   ]
  },
  {
   "cell_type": "markdown",
   "id": "8dc4b63f",
   "metadata": {},
   "source": [
    "## Importing Data Sets"
   ]
  },
  {
   "cell_type": "code",
   "execution_count": 2,
   "id": "8efcb9aa",
   "metadata": {},
   "outputs": [],
   "source": [
    "train_data=pd.read_csv('ServiceTrain.csv')\n",
    "test_data=pd.read_csv('ServiceTest.csv')"
   ]
  },
  {
   "cell_type": "code",
   "execution_count": 3,
   "id": "b80a369d",
   "metadata": {},
   "outputs": [
    {
     "data": {
      "text/html": [
       "<div>\n",
       "<style scoped>\n",
       "    .dataframe tbody tr th:only-of-type {\n",
       "        vertical-align: middle;\n",
       "    }\n",
       "\n",
       "    .dataframe tbody tr th {\n",
       "        vertical-align: top;\n",
       "    }\n",
       "\n",
       "    .dataframe thead th {\n",
       "        text-align: right;\n",
       "    }\n",
       "</style>\n",
       "<table border=\"1\" class=\"dataframe\">\n",
       "  <thead>\n",
       "    <tr style=\"text-align: right;\">\n",
       "      <th></th>\n",
       "      <th>OilQual</th>\n",
       "      <th>EnginePerf</th>\n",
       "      <th>NormMileage</th>\n",
       "      <th>TyreWear</th>\n",
       "      <th>HVACwear</th>\n",
       "      <th>Service</th>\n",
       "    </tr>\n",
       "  </thead>\n",
       "  <tbody>\n",
       "    <tr>\n",
       "      <th>0</th>\n",
       "      <td>103.388821</td>\n",
       "      <td>103.504032</td>\n",
       "      <td>103.051485</td>\n",
       "      <td>106.172658</td>\n",
       "      <td>105.686843</td>\n",
       "      <td>No</td>\n",
       "    </tr>\n",
       "    <tr>\n",
       "      <th>1</th>\n",
       "      <td>26.765516</td>\n",
       "      <td>26.188265</td>\n",
       "      <td>31.259536</td>\n",
       "      <td>29.186162</td>\n",
       "      <td>31.311275</td>\n",
       "      <td>Yes</td>\n",
       "    </tr>\n",
       "    <tr>\n",
       "      <th>2</th>\n",
       "      <td>62.413282</td>\n",
       "      <td>63.681061</td>\n",
       "      <td>59.720883</td>\n",
       "      <td>64.704031</td>\n",
       "      <td>58.620518</td>\n",
       "      <td>Yes</td>\n",
       "    </tr>\n",
       "    <tr>\n",
       "      <th>3</th>\n",
       "      <td>45.533338</td>\n",
       "      <td>49.906615</td>\n",
       "      <td>48.777581</td>\n",
       "      <td>48.113851</td>\n",
       "      <td>47.952072</td>\n",
       "      <td>No</td>\n",
       "    </tr>\n",
       "    <tr>\n",
       "      <th>4</th>\n",
       "      <td>104.388821</td>\n",
       "      <td>103.284032</td>\n",
       "      <td>103.051485</td>\n",
       "      <td>105.822658</td>\n",
       "      <td>106.536843</td>\n",
       "      <td>No</td>\n",
       "    </tr>\n",
       "  </tbody>\n",
       "</table>\n",
       "</div>"
      ],
      "text/plain": [
       "      OilQual  EnginePerf  NormMileage    TyreWear    HVACwear Service\n",
       "0  103.388821  103.504032   103.051485  106.172658  105.686843      No\n",
       "1   26.765516   26.188265    31.259536   29.186162   31.311275     Yes\n",
       "2   62.413282   63.681061    59.720883   64.704031   58.620518     Yes\n",
       "3   45.533338   49.906615    48.777581   48.113851   47.952072      No\n",
       "4  104.388821  103.284032   103.051485  105.822658  106.536843      No"
      ]
     },
     "execution_count": 3,
     "metadata": {},
     "output_type": "execute_result"
    }
   ],
   "source": [
    "train_data.head()"
   ]
  },
  {
   "cell_type": "code",
   "execution_count": 4,
   "id": "926bc3c0",
   "metadata": {},
   "outputs": [
    {
     "data": {
      "text/html": [
       "<div>\n",
       "<style scoped>\n",
       "    .dataframe tbody tr th:only-of-type {\n",
       "        vertical-align: middle;\n",
       "    }\n",
       "\n",
       "    .dataframe tbody tr th {\n",
       "        vertical-align: top;\n",
       "    }\n",
       "\n",
       "    .dataframe thead th {\n",
       "        text-align: right;\n",
       "    }\n",
       "</style>\n",
       "<table border=\"1\" class=\"dataframe\">\n",
       "  <thead>\n",
       "    <tr style=\"text-align: right;\">\n",
       "      <th>col_0</th>\n",
       "      <th>counts</th>\n",
       "    </tr>\n",
       "    <tr>\n",
       "      <th>Service</th>\n",
       "      <th></th>\n",
       "    </tr>\n",
       "  </thead>\n",
       "  <tbody>\n",
       "    <tr>\n",
       "      <th>No</th>\n",
       "      <td>0.736508</td>\n",
       "    </tr>\n",
       "    <tr>\n",
       "      <th>Yes</th>\n",
       "      <td>0.263492</td>\n",
       "    </tr>\n",
       "  </tbody>\n",
       "</table>\n",
       "</div>"
      ],
      "text/plain": [
       "col_0      counts\n",
       "Service          \n",
       "No       0.736508\n",
       "Yes      0.263492"
      ]
     },
     "execution_count": 4,
     "metadata": {},
     "output_type": "execute_result"
    }
   ],
   "source": [
    "pd.crosstab(train_data['Service'],'counts',normalize=True)"
   ]
  },
  {
   "cell_type": "markdown",
   "id": "70212a55",
   "metadata": {},
   "source": [
    "## Cleaning Data Sets"
   ]
  },
  {
   "cell_type": "code",
   "execution_count": 5,
   "id": "d26282cb",
   "metadata": {},
   "outputs": [],
   "source": [
    "train_data['Service'] = train_data['Service'].map({'Yes': 1, 'No': 0})\n",
    "test_data['Service'] = test_data['Service'].map({'Yes': 1, 'No': 0})"
   ]
  },
  {
   "cell_type": "code",
   "execution_count": 6,
   "id": "9fbd23a1",
   "metadata": {},
   "outputs": [
    {
     "data": {
      "text/html": [
       "<div>\n",
       "<style scoped>\n",
       "    .dataframe tbody tr th:only-of-type {\n",
       "        vertical-align: middle;\n",
       "    }\n",
       "\n",
       "    .dataframe tbody tr th {\n",
       "        vertical-align: top;\n",
       "    }\n",
       "\n",
       "    .dataframe thead th {\n",
       "        text-align: right;\n",
       "    }\n",
       "</style>\n",
       "<table border=\"1\" class=\"dataframe\">\n",
       "  <thead>\n",
       "    <tr style=\"text-align: right;\">\n",
       "      <th></th>\n",
       "      <th>OilQual</th>\n",
       "      <th>EnginePerf</th>\n",
       "      <th>NormMileage</th>\n",
       "      <th>TyreWear</th>\n",
       "      <th>HVACwear</th>\n",
       "      <th>Service</th>\n",
       "    </tr>\n",
       "  </thead>\n",
       "  <tbody>\n",
       "    <tr>\n",
       "      <th>0</th>\n",
       "      <td>103.388821</td>\n",
       "      <td>103.504032</td>\n",
       "      <td>103.051485</td>\n",
       "      <td>106.172658</td>\n",
       "      <td>105.686843</td>\n",
       "      <td>0</td>\n",
       "    </tr>\n",
       "    <tr>\n",
       "      <th>1</th>\n",
       "      <td>26.765516</td>\n",
       "      <td>26.188265</td>\n",
       "      <td>31.259536</td>\n",
       "      <td>29.186162</td>\n",
       "      <td>31.311275</td>\n",
       "      <td>1</td>\n",
       "    </tr>\n",
       "    <tr>\n",
       "      <th>2</th>\n",
       "      <td>62.413282</td>\n",
       "      <td>63.681061</td>\n",
       "      <td>59.720883</td>\n",
       "      <td>64.704031</td>\n",
       "      <td>58.620518</td>\n",
       "      <td>1</td>\n",
       "    </tr>\n",
       "    <tr>\n",
       "      <th>3</th>\n",
       "      <td>45.533338</td>\n",
       "      <td>49.906615</td>\n",
       "      <td>48.777581</td>\n",
       "      <td>48.113851</td>\n",
       "      <td>47.952072</td>\n",
       "      <td>0</td>\n",
       "    </tr>\n",
       "    <tr>\n",
       "      <th>4</th>\n",
       "      <td>104.388821</td>\n",
       "      <td>103.284032</td>\n",
       "      <td>103.051485</td>\n",
       "      <td>105.822658</td>\n",
       "      <td>106.536843</td>\n",
       "      <td>0</td>\n",
       "    </tr>\n",
       "    <tr>\n",
       "      <th>...</th>\n",
       "      <td>...</td>\n",
       "      <td>...</td>\n",
       "      <td>...</td>\n",
       "      <td>...</td>\n",
       "      <td>...</td>\n",
       "      <td>...</td>\n",
       "    </tr>\n",
       "    <tr>\n",
       "      <th>310</th>\n",
       "      <td>105.168821</td>\n",
       "      <td>103.744032</td>\n",
       "      <td>103.051485</td>\n",
       "      <td>107.172658</td>\n",
       "      <td>104.856843</td>\n",
       "      <td>0</td>\n",
       "    </tr>\n",
       "    <tr>\n",
       "      <th>311</th>\n",
       "      <td>104.388821</td>\n",
       "      <td>105.744032</td>\n",
       "      <td>103.051485</td>\n",
       "      <td>105.782658</td>\n",
       "      <td>104.196843</td>\n",
       "      <td>0</td>\n",
       "    </tr>\n",
       "    <tr>\n",
       "      <th>312</th>\n",
       "      <td>63.823282</td>\n",
       "      <td>62.741061</td>\n",
       "      <td>59.720883</td>\n",
       "      <td>61.654031</td>\n",
       "      <td>62.620518</td>\n",
       "      <td>1</td>\n",
       "    </tr>\n",
       "    <tr>\n",
       "      <th>313</th>\n",
       "      <td>26.535516</td>\n",
       "      <td>27.418265</td>\n",
       "      <td>31.259536</td>\n",
       "      <td>27.486162</td>\n",
       "      <td>33.311275</td>\n",
       "      <td>1</td>\n",
       "    </tr>\n",
       "    <tr>\n",
       "      <th>314</th>\n",
       "      <td>26.215516</td>\n",
       "      <td>26.338265</td>\n",
       "      <td>31.259536</td>\n",
       "      <td>27.036162</td>\n",
       "      <td>31.311275</td>\n",
       "      <td>1</td>\n",
       "    </tr>\n",
       "  </tbody>\n",
       "</table>\n",
       "<p>315 rows × 6 columns</p>\n",
       "</div>"
      ],
      "text/plain": [
       "        OilQual  EnginePerf  NormMileage    TyreWear    HVACwear  Service\n",
       "0    103.388821  103.504032   103.051485  106.172658  105.686843        0\n",
       "1     26.765516   26.188265    31.259536   29.186162   31.311275        1\n",
       "2     62.413282   63.681061    59.720883   64.704031   58.620518        1\n",
       "3     45.533338   49.906615    48.777581   48.113851   47.952072        0\n",
       "4    104.388821  103.284032   103.051485  105.822658  106.536843        0\n",
       "..          ...         ...          ...         ...         ...      ...\n",
       "310  105.168821  103.744032   103.051485  107.172658  104.856843        0\n",
       "311  104.388821  105.744032   103.051485  105.782658  104.196843        0\n",
       "312   63.823282   62.741061    59.720883   61.654031   62.620518        1\n",
       "313   26.535516   27.418265    31.259536   27.486162   33.311275        1\n",
       "314   26.215516   26.338265    31.259536   27.036162   31.311275        1\n",
       "\n",
       "[315 rows x 6 columns]"
      ]
     },
     "execution_count": 6,
     "metadata": {},
     "output_type": "execute_result"
    }
   ],
   "source": [
    "train_data"
   ]
  },
  {
   "cell_type": "code",
   "execution_count": 7,
   "id": "7bc3328d",
   "metadata": {},
   "outputs": [
    {
     "data": {
      "text/html": [
       "<div>\n",
       "<style scoped>\n",
       "    .dataframe tbody tr th:only-of-type {\n",
       "        vertical-align: middle;\n",
       "    }\n",
       "\n",
       "    .dataframe tbody tr th {\n",
       "        vertical-align: top;\n",
       "    }\n",
       "\n",
       "    .dataframe thead th {\n",
       "        text-align: right;\n",
       "    }\n",
       "</style>\n",
       "<table border=\"1\" class=\"dataframe\">\n",
       "  <thead>\n",
       "    <tr style=\"text-align: right;\">\n",
       "      <th></th>\n",
       "      <th>OilQual</th>\n",
       "      <th>EnginePerf</th>\n",
       "      <th>NormMileage</th>\n",
       "      <th>TyreWear</th>\n",
       "      <th>HVACwear</th>\n",
       "      <th>Service</th>\n",
       "    </tr>\n",
       "  </thead>\n",
       "  <tbody>\n",
       "    <tr>\n",
       "      <th>0</th>\n",
       "      <td>45.773338</td>\n",
       "      <td>49.936615</td>\n",
       "      <td>49.777581</td>\n",
       "      <td>48.263851</td>\n",
       "      <td>50.952072</td>\n",
       "      <td>0</td>\n",
       "    </tr>\n",
       "    <tr>\n",
       "      <th>1</th>\n",
       "      <td>4.987185</td>\n",
       "      <td>7.891003</td>\n",
       "      <td>6.588986</td>\n",
       "      <td>9.493161</td>\n",
       "      <td>3.240262</td>\n",
       "      <td>0</td>\n",
       "    </tr>\n",
       "    <tr>\n",
       "      <th>2</th>\n",
       "      <td>4.987185</td>\n",
       "      <td>4.891003</td>\n",
       "      <td>7.308986</td>\n",
       "      <td>8.373161</td>\n",
       "      <td>2.780262</td>\n",
       "      <td>0</td>\n",
       "    </tr>\n",
       "    <tr>\n",
       "      <th>3</th>\n",
       "      <td>106.388821</td>\n",
       "      <td>104.454032</td>\n",
       "      <td>103.051485</td>\n",
       "      <td>106.282658</td>\n",
       "      <td>105.536843</td>\n",
       "      <td>0</td>\n",
       "    </tr>\n",
       "    <tr>\n",
       "      <th>4</th>\n",
       "      <td>104.388821</td>\n",
       "      <td>103.744032</td>\n",
       "      <td>103.051485</td>\n",
       "      <td>106.132658</td>\n",
       "      <td>105.776843</td>\n",
       "      <td>0</td>\n",
       "    </tr>\n",
       "    <tr>\n",
       "      <th>...</th>\n",
       "      <td>...</td>\n",
       "      <td>...</td>\n",
       "      <td>...</td>\n",
       "      <td>...</td>\n",
       "      <td>...</td>\n",
       "      <td>...</td>\n",
       "    </tr>\n",
       "    <tr>\n",
       "      <th>130</th>\n",
       "      <td>103.388821</td>\n",
       "      <td>103.934032</td>\n",
       "      <td>102.941485</td>\n",
       "      <td>106.172658</td>\n",
       "      <td>105.536843</td>\n",
       "      <td>0</td>\n",
       "    </tr>\n",
       "    <tr>\n",
       "      <th>131</th>\n",
       "      <td>5.987185</td>\n",
       "      <td>6.081003</td>\n",
       "      <td>6.588986</td>\n",
       "      <td>8.373161</td>\n",
       "      <td>0.370262</td>\n",
       "      <td>0</td>\n",
       "    </tr>\n",
       "    <tr>\n",
       "      <th>132</th>\n",
       "      <td>25.385516</td>\n",
       "      <td>27.418265</td>\n",
       "      <td>32.309536</td>\n",
       "      <td>30.036162</td>\n",
       "      <td>31.311275</td>\n",
       "      <td>1</td>\n",
       "    </tr>\n",
       "    <tr>\n",
       "      <th>133</th>\n",
       "      <td>45.533338</td>\n",
       "      <td>49.666615</td>\n",
       "      <td>49.347581</td>\n",
       "      <td>51.263851</td>\n",
       "      <td>47.922072</td>\n",
       "      <td>0</td>\n",
       "    </tr>\n",
       "    <tr>\n",
       "      <th>134</th>\n",
       "      <td>104.388821</td>\n",
       "      <td>104.504032</td>\n",
       "      <td>102.461485</td>\n",
       "      <td>106.172658</td>\n",
       "      <td>105.536843</td>\n",
       "      <td>0</td>\n",
       "    </tr>\n",
       "  </tbody>\n",
       "</table>\n",
       "<p>135 rows × 6 columns</p>\n",
       "</div>"
      ],
      "text/plain": [
       "        OilQual  EnginePerf  NormMileage    TyreWear    HVACwear  Service\n",
       "0     45.773338   49.936615    49.777581   48.263851   50.952072        0\n",
       "1      4.987185    7.891003     6.588986    9.493161    3.240262        0\n",
       "2      4.987185    4.891003     7.308986    8.373161    2.780262        0\n",
       "3    106.388821  104.454032   103.051485  106.282658  105.536843        0\n",
       "4    104.388821  103.744032   103.051485  106.132658  105.776843        0\n",
       "..          ...         ...          ...         ...         ...      ...\n",
       "130  103.388821  103.934032   102.941485  106.172658  105.536843        0\n",
       "131    5.987185    6.081003     6.588986    8.373161    0.370262        0\n",
       "132   25.385516   27.418265    32.309536   30.036162   31.311275        1\n",
       "133   45.533338   49.666615    49.347581   51.263851   47.922072        0\n",
       "134  104.388821  104.504032   102.461485  106.172658  105.536843        0\n",
       "\n",
       "[135 rows x 6 columns]"
      ]
     },
     "execution_count": 7,
     "metadata": {},
     "output_type": "execute_result"
    }
   ],
   "source": [
    "test_data"
   ]
  },
  {
   "cell_type": "code",
   "execution_count": 8,
   "id": "6d1d1671",
   "metadata": {},
   "outputs": [],
   "source": [
    "X_train=train_data.drop(columns='Service')\n",
    "y_train=train_data['Service']\n",
    "\n",
    "X_test=test_data.drop(columns='Service')\n",
    "y_test=test_data['Service']"
   ]
  },
  {
   "cell_type": "markdown",
   "id": "a13cfc2d",
   "metadata": {},
   "source": [
    "## Model Creation"
   ]
  },
  {
   "cell_type": "markdown",
   "id": "8a965ec3",
   "metadata": {},
   "source": [
    "### Logistic Model"
   ]
  },
  {
   "cell_type": "code",
   "execution_count": 9,
   "id": "63e351f7",
   "metadata": {},
   "outputs": [],
   "source": [
    "lgr=LogisticRegression(random_state=0)"
   ]
  },
  {
   "cell_type": "code",
   "execution_count": 10,
   "id": "79b80beb",
   "metadata": {},
   "outputs": [],
   "source": [
    "lgr.fit(X_train,y_train)\n",
    "predictionslgr=lgr.predict(X_test)"
   ]
  },
  {
   "cell_type": "code",
   "execution_count": 11,
   "id": "c7471279",
   "metadata": {},
   "outputs": [
    {
     "data": {
      "text/plain": [
       "0.9111111111111111"
      ]
     },
     "execution_count": 11,
     "metadata": {},
     "output_type": "execute_result"
    }
   ],
   "source": [
    "accuracy_score(y_test,predictionslgr)"
   ]
  },
  {
   "cell_type": "code",
   "execution_count": 12,
   "id": "a89cab05",
   "metadata": {},
   "outputs": [
    {
     "data": {
      "text/plain": [
       "12"
      ]
     },
     "execution_count": 12,
     "metadata": {},
     "output_type": "execute_result"
    }
   ],
   "source": [
    "(predictionslgr!=y_test).sum()"
   ]
  },
  {
   "cell_type": "markdown",
   "id": "39817167",
   "metadata": {},
   "source": [
    "### KNN Model"
   ]
  },
  {
   "cell_type": "code",
   "execution_count": 13,
   "id": "a7952884",
   "metadata": {},
   "outputs": [],
   "source": [
    "knn=KNeighborsClassifier(n_neighbors=4,metric='euclidean')"
   ]
  },
  {
   "cell_type": "code",
   "execution_count": 14,
   "id": "372592cc",
   "metadata": {},
   "outputs": [],
   "source": [
    "knn.fit(X_train,y_train)\n",
    "predictionsknn=knn.predict(X_test)"
   ]
  },
  {
   "cell_type": "code",
   "execution_count": 15,
   "id": "304069bd",
   "metadata": {},
   "outputs": [
    {
     "data": {
      "text/plain": [
       "1.0"
      ]
     },
     "execution_count": 15,
     "metadata": {},
     "output_type": "execute_result"
    }
   ],
   "source": [
    "accuracy_score(y_test,predictionsknn)"
   ]
  },
  {
   "cell_type": "code",
   "execution_count": 16,
   "id": "28380536",
   "metadata": {},
   "outputs": [
    {
     "data": {
      "text/plain": [
       "0"
      ]
     },
     "execution_count": 16,
     "metadata": {},
     "output_type": "execute_result"
    }
   ],
   "source": [
    "(predictionsknn!=y_test).sum()"
   ]
  },
  {
   "cell_type": "code",
   "execution_count": null,
   "id": "270c009f",
   "metadata": {},
   "outputs": [],
   "source": []
  }
 ],
 "metadata": {
  "kernelspec": {
   "display_name": "Python 3",
   "language": "python",
   "name": "python3"
  },
  "language_info": {
   "codemirror_mode": {
    "name": "ipython",
    "version": 3
   },
   "file_extension": ".py",
   "mimetype": "text/x-python",
   "name": "python",
   "nbconvert_exporter": "python",
   "pygments_lexer": "ipython3",
   "version": "3.8.8"
  }
 },
 "nbformat": 4,
 "nbformat_minor": 5
}
